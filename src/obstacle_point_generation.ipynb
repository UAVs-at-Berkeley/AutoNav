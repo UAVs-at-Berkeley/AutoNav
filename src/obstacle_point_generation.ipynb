{
 "cells": [
  {
   "cell_type": "code",
   "execution_count": 1,
   "metadata": {},
   "outputs": [],
   "source": [
    "import plotly.graph_objects as go\n",
    "import numpy as np\n",
    "import random\n",
    "\n",
    "# Source of distanceToObstacle function: \n",
    "# David Eberly, Geometric Tools, Redmond WA 98052\n",
    "# Copyright (c) 1998-2020\n",
    "# Distributed under the Boost Software License, Version 1.0.\n",
    "# https://www.boost.org/LICENSE_1_0.txt\n",
    "# https://www.geometrictools.com/License/Boost/LICENSE_1_0.txt\n",
    "# Version: 4.0.2019.08.13"
   ]
  },
  {
   "cell_type": "code",
   "execution_count": 22,
   "metadata": {},
   "outputs": [],
   "source": [
    "wingspan = 10"
   ]
  },
  {
   "cell_type": "code",
   "execution_count": 35,
   "metadata": {},
   "outputs": [],
   "source": [
    "class ObstacleData: \n",
    "    def __init__(self, coords, r):\n",
    "        self.coordinates = coords\n",
    "        self.radius = r "
   ]
  },
  {
   "cell_type": "code",
   "execution_count": 24,
   "metadata": {},
   "outputs": [],
   "source": [
    "all_obstacles = []\n",
    "for i in range(30):\n",
    "    x = random.randint(30, 6000)\n",
    "    y = random.randint(30, 6000)\n",
    "    z = 0\n",
    "    r = random.randint(5, 151)\n",
    "    all_obstacles.append(ObstacleData(np.array([x, y, z]), r, [0, 0, 1]))\n",
    "all_obstacles.append(ObstacleData(np.array([50, 50, 50]), 5, [0, 0, 1]))"
   ]
  },
  {
   "cell_type": "code",
   "execution_count": 25,
   "metadata": {},
   "outputs": [
    {
     "data": {
      "text/plain": [
       "[<__main__.ObstacleData at 0x117568470>,\n",
       " <__main__.ObstacleData at 0x117568358>,\n",
       " <__main__.ObstacleData at 0x1175682e8>,\n",
       " <__main__.ObstacleData at 0x117568240>,\n",
       " <__main__.ObstacleData at 0x117568198>,\n",
       " <__main__.ObstacleData at 0x117568588>,\n",
       " <__main__.ObstacleData at 0x117568278>,\n",
       " <__main__.ObstacleData at 0x117568128>,\n",
       " <__main__.ObstacleData at 0x117568550>,\n",
       " <__main__.ObstacleData at 0x117568390>,\n",
       " <__main__.ObstacleData at 0x1144b1860>,\n",
       " <__main__.ObstacleData at 0x1144b1470>,\n",
       " <__main__.ObstacleData at 0x1144b1198>,\n",
       " <__main__.ObstacleData at 0x1144b1400>,\n",
       " <__main__.ObstacleData at 0x1144b1358>,\n",
       " <__main__.ObstacleData at 0x1144b14e0>,\n",
       " <__main__.ObstacleData at 0x1144b1550>,\n",
       " <__main__.ObstacleData at 0x1144b14a8>,\n",
       " <__main__.ObstacleData at 0x1144b16d8>,\n",
       " <__main__.ObstacleData at 0x1144b18d0>,\n",
       " <__main__.ObstacleData at 0x1144b1940>,\n",
       " <__main__.ObstacleData at 0x1144b1438>,\n",
       " <__main__.ObstacleData at 0x1144b1160>,\n",
       " <__main__.ObstacleData at 0x1144b19b0>,\n",
       " <__main__.ObstacleData at 0x1144b17b8>,\n",
       " <__main__.ObstacleData at 0x1144b1630>,\n",
       " <__main__.ObstacleData at 0x1144b1748>,\n",
       " <__main__.ObstacleData at 0x1144b1128>,\n",
       " <__main__.ObstacleData at 0x1144b1080>,\n",
       " <__main__.ObstacleData at 0x1144b1240>,\n",
       " <__main__.ObstacleData at 0x1175684e0>]"
      ]
     },
     "execution_count": 25,
     "metadata": {},
     "output_type": "execute_result"
    }
   ],
   "source": [
    "all_obstacles"
   ]
  },
  {
   "cell_type": "code",
   "execution_count": 28,
   "metadata": {},
   "outputs": [],
   "source": [
    "w_x,w_y,w_z = [100, 154.4], [100, 164.4], [100, 50]\n"
   ]
  },
  {
   "cell_type": "code",
   "execution_count": 29,
   "metadata": {},
   "outputs": [
    {
     "ename": "ValueError",
     "evalue": "\n    Invalid value of type 'builtins.int' received for the 'x' property of scatter3d\n        Received value: 672\n\n    The 'x' property is an array that may be specified as a tuple,\n    list, numpy array, or pandas Series",
     "output_type": "error",
     "traceback": [
      "\u001b[0;31m---------------------------------------------------------------------------\u001b[0m",
      "\u001b[0;31mValueError\u001b[0m                                Traceback (most recent call last)",
      "\u001b[0;32m<ipython-input-29-2f3d9b4c0f3a>\u001b[0m in \u001b[0;36m<module>\u001b[0;34m\u001b[0m\n\u001b[1;32m      3\u001b[0m         \u001b[0msize\u001b[0m\u001b[0;34m=\u001b[0m\u001b[0;36m7\u001b[0m\u001b[0;34m,\u001b[0m\u001b[0;34m\u001b[0m\u001b[0;34m\u001b[0m\u001b[0m\n\u001b[1;32m      4\u001b[0m         \u001b[0mcolor\u001b[0m\u001b[0;34m=\u001b[0m\u001b[0mz\u001b[0m\u001b[0;34m,\u001b[0m\u001b[0;34m\u001b[0m\u001b[0;34m\u001b[0m\u001b[0m\n\u001b[0;32m----> 5\u001b[0;31m         \u001b[0mopacity\u001b[0m\u001b[0;34m=\u001b[0m\u001b[0;36m0.8\u001b[0m\u001b[0;34m\u001b[0m\u001b[0;34m\u001b[0m\u001b[0m\n\u001b[0m\u001b[1;32m      6\u001b[0m     ))])\n\u001b[1;32m      7\u001b[0m \u001b[0;34m\u001b[0m\u001b[0m\n",
      "\u001b[0;32m~/anaconda3/lib/python3.7/site-packages/plotly/graph_objs/__init__.py\u001b[0m in \u001b[0;36m__init__\u001b[0;34m(self, arg, connectgaps, customdata, customdatasrc, error_x, error_y, error_z, hoverinfo, hoverinfosrc, hoverlabel, hovertemplate, hovertemplatesrc, hovertext, hovertextsrc, ids, idssrc, legendgroup, line, marker, meta, metasrc, mode, name, opacity, projection, scene, showlegend, stream, surfaceaxis, surfacecolor, text, textfont, textposition, textpositionsrc, textsrc, texttemplate, texttemplatesrc, uid, uirevision, visible, x, xcalendar, xsrc, y, ycalendar, ysrc, z, zcalendar, zsrc, **kwargs)\u001b[0m\n\u001b[1;32m  34820\u001b[0m         \u001b[0mself\u001b[0m\u001b[0;34m[\u001b[0m\u001b[0;34m\"visible\"\u001b[0m\u001b[0;34m]\u001b[0m \u001b[0;34m=\u001b[0m \u001b[0mvisible\u001b[0m \u001b[0;32mif\u001b[0m \u001b[0mvisible\u001b[0m \u001b[0;32mis\u001b[0m \u001b[0;32mnot\u001b[0m \u001b[0;32mNone\u001b[0m \u001b[0;32melse\u001b[0m \u001b[0m_v\u001b[0m\u001b[0;34m\u001b[0m\u001b[0;34m\u001b[0m\u001b[0m\n\u001b[1;32m  34821\u001b[0m         \u001b[0m_v\u001b[0m \u001b[0;34m=\u001b[0m \u001b[0marg\u001b[0m\u001b[0;34m.\u001b[0m\u001b[0mpop\u001b[0m\u001b[0;34m(\u001b[0m\u001b[0;34m\"x\"\u001b[0m\u001b[0;34m,\u001b[0m \u001b[0;32mNone\u001b[0m\u001b[0;34m)\u001b[0m\u001b[0;34m\u001b[0m\u001b[0;34m\u001b[0m\u001b[0m\n\u001b[0;32m> 34822\u001b[0;31m         \u001b[0mself\u001b[0m\u001b[0;34m[\u001b[0m\u001b[0;34m\"x\"\u001b[0m\u001b[0;34m]\u001b[0m \u001b[0;34m=\u001b[0m \u001b[0mx\u001b[0m \u001b[0;32mif\u001b[0m \u001b[0mx\u001b[0m \u001b[0;32mis\u001b[0m \u001b[0;32mnot\u001b[0m \u001b[0;32mNone\u001b[0m \u001b[0;32melse\u001b[0m \u001b[0m_v\u001b[0m\u001b[0;34m\u001b[0m\u001b[0;34m\u001b[0m\u001b[0m\n\u001b[0m\u001b[1;32m  34823\u001b[0m         \u001b[0m_v\u001b[0m \u001b[0;34m=\u001b[0m \u001b[0marg\u001b[0m\u001b[0;34m.\u001b[0m\u001b[0mpop\u001b[0m\u001b[0;34m(\u001b[0m\u001b[0;34m\"xcalendar\"\u001b[0m\u001b[0;34m,\u001b[0m \u001b[0;32mNone\u001b[0m\u001b[0;34m)\u001b[0m\u001b[0;34m\u001b[0m\u001b[0;34m\u001b[0m\u001b[0m\n\u001b[1;32m  34824\u001b[0m         \u001b[0mself\u001b[0m\u001b[0;34m[\u001b[0m\u001b[0;34m\"xcalendar\"\u001b[0m\u001b[0;34m]\u001b[0m \u001b[0;34m=\u001b[0m \u001b[0mxcalendar\u001b[0m \u001b[0;32mif\u001b[0m \u001b[0mxcalendar\u001b[0m \u001b[0;32mis\u001b[0m \u001b[0;32mnot\u001b[0m \u001b[0;32mNone\u001b[0m \u001b[0;32melse\u001b[0m \u001b[0m_v\u001b[0m\u001b[0;34m\u001b[0m\u001b[0;34m\u001b[0m\u001b[0m\n",
      "\u001b[0;32m~/anaconda3/lib/python3.7/site-packages/plotly/basedatatypes.py\u001b[0m in \u001b[0;36m__setitem__\u001b[0;34m(self, prop, value)\u001b[0m\n\u001b[1;32m   3488\u001b[0m             \u001b[0;31m# ### Handle simple property ###\u001b[0m\u001b[0;34m\u001b[0m\u001b[0;34m\u001b[0m\u001b[0;34m\u001b[0m\u001b[0m\n\u001b[1;32m   3489\u001b[0m             \u001b[0;32melse\u001b[0m\u001b[0;34m:\u001b[0m\u001b[0;34m\u001b[0m\u001b[0;34m\u001b[0m\u001b[0m\n\u001b[0;32m-> 3490\u001b[0;31m                 \u001b[0mself\u001b[0m\u001b[0;34m.\u001b[0m\u001b[0m_set_prop\u001b[0m\u001b[0;34m(\u001b[0m\u001b[0mprop\u001b[0m\u001b[0;34m,\u001b[0m \u001b[0mvalue\u001b[0m\u001b[0;34m)\u001b[0m\u001b[0;34m\u001b[0m\u001b[0;34m\u001b[0m\u001b[0m\n\u001b[0m\u001b[1;32m   3491\u001b[0m \u001b[0;34m\u001b[0m\u001b[0m\n\u001b[1;32m   3492\u001b[0m         \u001b[0;31m# Handle non-scalar case\u001b[0m\u001b[0;34m\u001b[0m\u001b[0;34m\u001b[0m\u001b[0;34m\u001b[0m\u001b[0m\n",
      "\u001b[0;32m~/anaconda3/lib/python3.7/site-packages/plotly/basedatatypes.py\u001b[0m in \u001b[0;36m_set_prop\u001b[0;34m(self, prop, val)\u001b[0m\n\u001b[1;32m   3775\u001b[0m                 \u001b[0;32mreturn\u001b[0m\u001b[0;34m\u001b[0m\u001b[0;34m\u001b[0m\u001b[0m\n\u001b[1;32m   3776\u001b[0m             \u001b[0;32melse\u001b[0m\u001b[0;34m:\u001b[0m\u001b[0;34m\u001b[0m\u001b[0;34m\u001b[0m\u001b[0m\n\u001b[0;32m-> 3777\u001b[0;31m                 \u001b[0;32mraise\u001b[0m \u001b[0merr\u001b[0m\u001b[0;34m\u001b[0m\u001b[0;34m\u001b[0m\u001b[0m\n\u001b[0m\u001b[1;32m   3778\u001b[0m \u001b[0;34m\u001b[0m\u001b[0m\n\u001b[1;32m   3779\u001b[0m         \u001b[0;31m# val is None\u001b[0m\u001b[0;34m\u001b[0m\u001b[0;34m\u001b[0m\u001b[0;34m\u001b[0m\u001b[0m\n",
      "\u001b[0;32m~/anaconda3/lib/python3.7/site-packages/plotly/basedatatypes.py\u001b[0m in \u001b[0;36m_set_prop\u001b[0;34m(self, prop, val)\u001b[0m\n\u001b[1;32m   3770\u001b[0m         \u001b[0mvalidator\u001b[0m \u001b[0;34m=\u001b[0m \u001b[0mself\u001b[0m\u001b[0;34m.\u001b[0m\u001b[0m_validators\u001b[0m\u001b[0;34m.\u001b[0m\u001b[0mget\u001b[0m\u001b[0;34m(\u001b[0m\u001b[0mprop\u001b[0m\u001b[0;34m)\u001b[0m\u001b[0;34m\u001b[0m\u001b[0;34m\u001b[0m\u001b[0m\n\u001b[1;32m   3771\u001b[0m         \u001b[0;32mtry\u001b[0m\u001b[0;34m:\u001b[0m\u001b[0;34m\u001b[0m\u001b[0;34m\u001b[0m\u001b[0m\n\u001b[0;32m-> 3772\u001b[0;31m             \u001b[0mval\u001b[0m \u001b[0;34m=\u001b[0m \u001b[0mvalidator\u001b[0m\u001b[0;34m.\u001b[0m\u001b[0mvalidate_coerce\u001b[0m\u001b[0;34m(\u001b[0m\u001b[0mval\u001b[0m\u001b[0;34m)\u001b[0m\u001b[0;34m\u001b[0m\u001b[0;34m\u001b[0m\u001b[0m\n\u001b[0m\u001b[1;32m   3773\u001b[0m         \u001b[0;32mexcept\u001b[0m \u001b[0mValueError\u001b[0m \u001b[0;32mas\u001b[0m \u001b[0merr\u001b[0m\u001b[0;34m:\u001b[0m\u001b[0;34m\u001b[0m\u001b[0;34m\u001b[0m\u001b[0m\n\u001b[1;32m   3774\u001b[0m             \u001b[0;32mif\u001b[0m \u001b[0mself\u001b[0m\u001b[0;34m.\u001b[0m\u001b[0m_skip_invalid\u001b[0m\u001b[0;34m:\u001b[0m\u001b[0;34m\u001b[0m\u001b[0;34m\u001b[0m\u001b[0m\n",
      "\u001b[0;32m~/anaconda3/lib/python3.7/site-packages/_plotly_utils/basevalidators.py\u001b[0m in \u001b[0;36mvalidate_coerce\u001b[0;34m(self, v)\u001b[0m\n\u001b[1;32m    387\u001b[0m             \u001b[0mv\u001b[0m \u001b[0;34m=\u001b[0m \u001b[0mto_scalar_or_list\u001b[0m\u001b[0;34m(\u001b[0m\u001b[0mv\u001b[0m\u001b[0;34m)\u001b[0m\u001b[0;34m\u001b[0m\u001b[0;34m\u001b[0m\u001b[0m\n\u001b[1;32m    388\u001b[0m         \u001b[0;32melse\u001b[0m\u001b[0;34m:\u001b[0m\u001b[0;34m\u001b[0m\u001b[0;34m\u001b[0m\u001b[0m\n\u001b[0;32m--> 389\u001b[0;31m             \u001b[0mself\u001b[0m\u001b[0;34m.\u001b[0m\u001b[0mraise_invalid_val\u001b[0m\u001b[0;34m(\u001b[0m\u001b[0mv\u001b[0m\u001b[0;34m)\u001b[0m\u001b[0;34m\u001b[0m\u001b[0;34m\u001b[0m\u001b[0m\n\u001b[0m\u001b[1;32m    390\u001b[0m         \u001b[0;32mreturn\u001b[0m \u001b[0mv\u001b[0m\u001b[0;34m\u001b[0m\u001b[0;34m\u001b[0m\u001b[0m\n\u001b[1;32m    391\u001b[0m \u001b[0;34m\u001b[0m\u001b[0m\n",
      "\u001b[0;32m~/anaconda3/lib/python3.7/site-packages/_plotly_utils/basevalidators.py\u001b[0m in \u001b[0;36mraise_invalid_val\u001b[0;34m(self, v, inds)\u001b[0m\n\u001b[1;32m    281\u001b[0m                 \u001b[0mtyp\u001b[0m\u001b[0;34m=\u001b[0m\u001b[0mtype_str\u001b[0m\u001b[0;34m(\u001b[0m\u001b[0mv\u001b[0m\u001b[0;34m)\u001b[0m\u001b[0;34m,\u001b[0m\u001b[0;34m\u001b[0m\u001b[0;34m\u001b[0m\u001b[0m\n\u001b[1;32m    282\u001b[0m                 \u001b[0mv\u001b[0m\u001b[0;34m=\u001b[0m\u001b[0mrepr\u001b[0m\u001b[0;34m(\u001b[0m\u001b[0mv\u001b[0m\u001b[0;34m)\u001b[0m\u001b[0;34m,\u001b[0m\u001b[0;34m\u001b[0m\u001b[0;34m\u001b[0m\u001b[0m\n\u001b[0;32m--> 283\u001b[0;31m                 \u001b[0mvalid_clr_desc\u001b[0m\u001b[0;34m=\u001b[0m\u001b[0mself\u001b[0m\u001b[0;34m.\u001b[0m\u001b[0mdescription\u001b[0m\u001b[0;34m(\u001b[0m\u001b[0;34m)\u001b[0m\u001b[0;34m,\u001b[0m\u001b[0;34m\u001b[0m\u001b[0;34m\u001b[0m\u001b[0m\n\u001b[0m\u001b[1;32m    284\u001b[0m             )\n\u001b[1;32m    285\u001b[0m         )\n",
      "\u001b[0;31mValueError\u001b[0m: \n    Invalid value of type 'builtins.int' received for the 'x' property of scatter3d\n        Received value: 672\n\n    The 'x' property is an array that may be specified as a tuple,\n    list, numpy array, or pandas Series"
     ]
    }
   ],
   "source": [
    "fig = go.Figure(data=[go.Scatter3d(x=x, y=y, z=z,\n",
    "                                   mode='markers', marker=dict(\n",
    "        size=7,\n",
    "        color=z,                  \n",
    "        opacity=0.8\n",
    "    ))])\n",
    "\n",
    "fig.add_trace(\n",
    "    go.Scatter3d(x=w_x, y=w_y, z=w_z, mode='markers',\n",
    "        marker=dict(\n",
    "        size=5)))\n",
    "fig.show()"
   ]
  },
  {
   "cell_type": "code",
   "execution_count": 49,
   "metadata": {},
   "outputs": [],
   "source": [
    "def pointDistanceToObstacle(point, obstacle):\n",
    "    return np.sqrt((point[0] - obstacle[0])**2 + (point[1] - obstacle[1])**2)"
   ]
  },
  {
   "cell_type": "code",
   "execution_count": 122,
   "metadata": {},
   "outputs": [],
   "source": [
    "def distanceToObstacle(curr, goal, obstacle):\n",
    "    obstacle_dir = np.array([0, 0, 1])\n",
    "    center = np.array([0.5 * i for i in np.add(curr, goal)])\n",
    "    path_direction = np.subtract(goal, curr)\n",
    "    extent = 0.5 * np.linalg.norm(path_direction)\n",
    "    path_direction = np.true_divide(path_direction, np.linalg.norm(path_direction))\n",
    "    diff = obstacle.coordinates - center\n",
    "    a01 = -np.dot(obstacle_dir, path_direction)\n",
    "    b0 = np.dot(diff, obstacle_dir)\n",
    "    if abs(a01) < 1:\n",
    "        # The ray and segment are not parallel.\n",
    "        det = 1 - a01 * a01\n",
    "        ext_det = extent * det\n",
    "        b1 = -np.dot(diff, path_direction)\n",
    "        s0 = a01 * b1 - b0\n",
    "        s1 = a01 * b0 - b1\n",
    "\n",
    "        if s0 >= 0:\n",
    "            if s1 >= -ext_det:\n",
    "                if s1 <= ext_det: # region 0\n",
    "                    # Minimum at interior points of ray and segment.\n",
    "                    s0 /= det\n",
    "                    s1 /= det\n",
    "                else:  # region 1\n",
    "                    s1 = extent\n",
    "                    s0 = max(-(a01 * s1 + b0), 0)\n",
    "            else:  # region 5\n",
    "                s1 = -extent\n",
    "                s0 = max(-(a01 * s1 + b0), 0)\n",
    "        else:\n",
    "            if s1 <= -ext_det:  # region 4\n",
    "                s0 = -(-a01 * extent + b0)\n",
    "                if s0 > 0:\n",
    "                    s1 = -extent\n",
    "                else:\n",
    "                    s0 = 0\n",
    "                    s1 = -b1\n",
    "                    if s1 < -extent:\n",
    "                        s1 = -extent\n",
    "                    elif s1 > extent:\n",
    "                        s1 = extent\n",
    "            elif s1 <= ext_det:  # region 3\n",
    "                s0 = 0\n",
    "                s1 = -b1\n",
    "                if s1 < -extent:\n",
    "                    s1 = -extent\n",
    "                elif s1 > extent:\n",
    "                    s1 = extent\n",
    "            else:  # region 2\n",
    "                s0 = -(a01 * extent + b0)\n",
    "                if s0 > 0:\n",
    "                    s1 = extent\n",
    "                else:\n",
    "                    s0 = 0\n",
    "                    s1 = -b1\n",
    "                    if s1 < -extent:\n",
    "                        s1 = -extent\n",
    "                    elif s1 > extent:\n",
    "                        s1 = extent\n",
    "    else:\n",
    "        # Ray and segment are parallel.\n",
    "        if a01 > 0:\n",
    "            # Opposite direction vectors.\n",
    "            s1 = -extent\n",
    "        else:\n",
    "            # Same direction vectors.\n",
    "            s1 = extent\n",
    "        s0 = max(-(a01 * s1 + b0), 0)\n",
    "\n",
    "    closestp0 = obstacle.coordinates + s0 * obstacle_dir\n",
    "    closestp1 = center + s1 * path_direction\n",
    "    diff = closestp0 - closestp1\n",
    "    sqr_distance = np.dot(diff, diff)\n",
    "    distance = np.sqrt(sqr_distance)\n",
    "    return distance"
   ]
  },
  {
   "cell_type": "code",
   "execution_count": 123,
   "metadata": {},
   "outputs": [
    {
     "name": "stdout",
     "output_type": "stream",
     "text": [
      "282.842712474619 [500. 500. 300.] [300. 300. 300.]\n"
     ]
    },
    {
     "data": {
      "text/plain": [
       "282.842712474619"
      ]
     },
     "execution_count": 123,
     "metadata": {},
     "output_type": "execute_result"
    }
   ],
   "source": [
    "distanceToObstacle(np.array([200.0, 200.0, 200.0]), np.array([300.0, 300.0, 300.0]), ObstacleData([500.0, 500.0, 0], 10.0))"
   ]
  },
  {
   "cell_type": "code",
   "execution_count": 126,
   "metadata": {},
   "outputs": [
    {
     "name": "stdout",
     "output_type": "stream",
     "text": [
      "3586.542725243908 [ 585. 3725.   50.] [154.4 164.4  50. ]\n",
      "4934.061604803896 [3901. 3375.   50.] [154.4 164.4  50. ]\n",
      "4615.142611014312 [ 718. 4745.   50.] [154.4 164.4  50. ]\n",
      "6032.485451287886 [3647. 5083.   50.] [154.4 164.4  50. ]\n",
      "5445.795783905232 [2779. 4936.   50.] [154.4 164.4  50. ]\n",
      "1301.1085734864712 [1450.  284.   50.] [154.4 164.4  50. ]\n",
      "6244.234566382016 [3287. 5566.   50.] [154.4 164.4  50. ]\n",
      "4659.429570237113 [1633. 4583.   50.] [154.4 164.4  50. ]\n",
      "4834.562950257241 [2411. 4440.   50.] [154.4 164.4  50. ]\n",
      "2820.0321842135063 [2895.  829.   50.] [154.4 164.4  50. ]\n",
      "1186.6668108614144 [ 993. 1004.   50.] [154.4 164.4  50. ]\n",
      "5274.335798941892 [4782. 2695.   50.] [154.4 164.4  50. ]\n",
      "6818.555412988883 [5714. 4112.   50.] [154.4 164.4  50. ]\n",
      "3278.6010309276726 [3433.  167.   50.] [154.4 164.4  50. ]\n",
      "1679.9074736425216 [1286. 1406.   50.] [154.4 164.4  50. ]\n",
      "5441.108464274536 [4053. 3960.   50.] [154.4 164.4  50. ]\n",
      "5817.311382417139 [1065. 5910.   50.] [154.4 164.4  50. ]\n",
      "1494.451310682285 [1259. 1171.   50.] [154.4 164.4  50. ]\n",
      "3345.327684995896 [2207. 2806.   50.] [154.4 164.4  50. ]\n",
      "6640.377242295802 [4716. 4990.   50.] [154.4 164.4  50. ]\n",
      "4294.288197128833 [ 497. 4445.   50.] [154.4 164.4  50. ]\n",
      "501.9447379941342 [656. 183.  50.] [154.4 164.4  50. ]\n",
      "1247.6389381547851 [ 320. 1401.   50.] [154.4 164.4  50. ]\n",
      "5512.716310495218 [2614. 5098.   50.] [154.4 164.4  50. ]\n",
      "3781.131010689791 [3543. 1842.   50.] [154.4 164.4  50. ]\n",
      "3022.829092092373 [2151. 2434.   50.] [154.4 164.4  50. ]\n",
      "6244.053212457435 [4601. 4548.   50.] [154.4 164.4  50. ]\n",
      "2349.1940575439908 [1773. 1867.   50.] [154.4 164.4  50. ]\n",
      "775.1121983300225 [855. 496.  50.] [154.4 164.4  50. ]\n",
      "3180.0068427599335 [ 672. 3302.   50.] [154.4 164.4  50. ]\n",
      "70.71067811865474 [ 50.  50. 100.] [100. 100. 100.]\n",
      "[]\n"
     ]
    },
    {
     "data": {
      "text/plain": [
       "[]"
      ]
     },
     "execution_count": 126,
     "metadata": {},
     "output_type": "execute_result"
    }
   ],
   "source": [
    "def dangerousObstacles(curr, goal):\n",
    "    inPath = []\n",
    "    for obstacle in all_obstacles:\n",
    "        if distanceToObstacle(curr, goal, obstacle) < wingspan + obstacle.radius:\n",
    "            inPath.append(obstacle)\n",
    "            print(distanceToObstacle(curr, goal, obstacle))\n",
    "    return inPath\n",
    "\n",
    "dangerousObstacles([100, 100, 100], [154.4, 164.4, 50])"
   ]
  },
  {
   "cell_type": "code",
   "execution_count": 127,
   "metadata": {},
   "outputs": [
    {
     "name": "stdout",
     "output_type": "stream",
     "text": [
      "3046.42310424445 [ 585.         3725.         2852.18384697] [1919.24017003  986.29649309 2852.18384697]\n",
      "1378.559392989653 [3901. 3375. 6000.] [4000. 2000. 6000.]\n",
      "3905.1428371622656 [ 718.        4745.        3622.3501594] [2428.33315622 1234.31615303 3622.3501594 ]\n",
      "3103.1432451628784 [3647. 5083. 6000.] [4000. 2000. 6000.]\n",
      "3179.7699602329726 [2779. 4936. 6000.] [4000. 2000. 6000.]\n",
      "425.8445855615312 [1450.          284.         1860.15621679] [1263.49309245  666.82996812 1860.15621679]\n",
      "3636.581499155491 [3287. 5566. 6000.] [4000. 2000. 6000.]\n",
      "3358.764456109706 [1633.        4583.        4644.5674814] [3104.03613177 1563.50478215 4644.5674814 ]\n",
      "2889.4686935543737 [2411.         4440.         5510.60095643] [3676.4989373  1842.39691817 5510.60095643]\n",
      "568.7609236843793 [2895.          829.         3951.48990436] [2645.90010627 1340.31030818 3951.48990436]\n",
      "421.5801464401236 [ 993.         1004.         1730.27470776] [1177.6392136   625.00371945 1730.27470776]\n",
      "1046.206958493395 [4782. 2695. 6000.] [4000. 2000. 6000.]\n",
      "2719.9889705658734 [5714. 4112. 6000.] [4000. 2000. 6000.]\n",
      "1399.5197665791277 [3433.          167.         4214.95217853] [2820.05313496 1425.15409139 4214.95217853]\n",
      "654.6490326917553 [1286.         1406.         2327.95536663] [1572.7162593   817.47715197 2327.95536663]\n",
      "1960.7164506883703 [4053. 3960. 6000.] [4000. 2000. 6000.]\n",
      "4800.49064447963 [1065.         5910.         4740.52869288] [3167.46811902 1594.40754516 4740.52869288]\n",
      "455.2115879435487 [1259.         1171.         2154.96811902] [1458.36875664  761.76939426 2154.96811902]\n",
      "1509.865010223333 [2207.         2806.         4287.90276302] [2868.27470776 1448.6466525  4287.90276302]\n",
      "3074.5334605432413 [4716. 4990. 6000.] [4000. 2000. 6000.]\n",
      "3732.2371190558965 [ 497.         4445.         3173.45483528] [2131.60573858 1089.75664187 3173.45483528]\n",
      "168.89484023001717 [656.         183.         829.22369819] [582.02922423 334.83475027 829.22369819]\n",
      "1073.2325462357546 [ 320.         1401.         1143.91126461] [ 790.04303932  436.17481403 1143.91126461]\n",
      "3393.906303951245 [2614. 5098. 6000.] [4000. 2000. 6000.]\n",
      "58.11162716253211 [3543.         1842.         5347.14399575] [3568.45111583 1789.75823592 5347.14399575]\n",
      "1199.9670667195317 [2151.         2434.         3997.85600425] [2676.54888417 1355.24176408 3997.85600425]\n",
      "2617.919975858697 [4601. 4548. 6000.] [4000. 2000. 6000.]\n",
      "855.7922530885248 [1773.         1867.         3197.97024442] [2147.81083953 1097.65143464 3197.97024442]\n",
      "25.333073483388684 [ 855.          496.         1258.96439957] [ 866.09511158  473.22582359 1258.96439957]\n",
      "25.333073483388684 [ 855.          496.         1258.96439957] [ 866.09511158  473.22582359 1258.96439957]\n",
      "25.333073483388684\n",
      "2628.047049900951 [ 672.         3302.         2706.59617428] [1823.0042508   939.41232731 2706.59617428]\n",
      "70.71067811865491 [ 50.  50. 100.] [100. 100. 100.]\n",
      "[array([855, 496,   0])]\n"
     ]
    },
    {
     "data": {
      "text/plain": [
       "[<__main__.ObstacleData at 0x1144b1080>]"
      ]
     },
     "execution_count": 127,
     "metadata": {},
     "output_type": "execute_result"
    }
   ],
   "source": [
    "dangerousObstacles(np.array([100, 100, 100]), np.array([4000, 2000, 6000]))"
   ]
  },
  {
   "cell_type": "code",
   "execution_count": 41,
   "metadata": {},
   "outputs": [
    {
     "data": {
      "image/png": "[encoded data removed]",
      "text/plain": [
       "<Figure size 432x288 with 1 Axes>"
      ]
     },
     "metadata": {
      "needs_background": "light"
     },
     "output_type": "display_data"
    }
   ],
   "source": [
    "import matplotlib.pyplot as plt\n",
    "import matplotlib.lines as mlines\n",
    "\n",
    "\n",
    "def create_circle(r):\n",
    "    circle= plt.Circle((50,50), radius= r)\n",
    "    return circle\n",
    "\n",
    "def show_shape(patch, cur_graph):\n",
    "    ax=cur_graph\n",
    "    ax.add_patch(patch)\n",
    "    plt.axis('scaled')\n",
    "    plt.show()\n",
    "\n",
    "\n",
    "c = create_circle(30)\n",
    "graph = plt.gca()\n",
    "l = mlines.Line2D([-10,100], [-30,100], color=\"r\")\n",
    "graph.add_line(l)\n",
    "graph.scatter(100, 50, color=\"r\")\n",
    "# graph.scatter([200, 500], [100, 100], color=\"r\")\n",
    "\n",
    "show_shape(c, graph)"
   ]
  },
  {
   "cell_type": "code",
   "execution_count": 37,
   "metadata": {},
   "outputs": [],
   "source": []
  },
  {
   "cell_type": "code",
   "execution_count": null,
   "metadata": {},
   "outputs": [],
   "source": []
  }
 ],
 "metadata": {
  "kernelspec": {
   "display_name": "Python 3",
   "language": "python",
   "name": "python3"
  },
  "language_info": {
   "codemirror_mode": {
    "name": "ipython",
    "version": 3
   },
   "file_extension": ".py",
   "mimetype": "text/x-python",
   "name": "python",
   "nbconvert_exporter": "python",
   "pygments_lexer": "ipython3",
   "version": "3.7.3"
  }
 },
 "nbformat": 4,
 "nbformat_minor": 2
}
